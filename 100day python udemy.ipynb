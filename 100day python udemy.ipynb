{
 "cells": [
  {
   "cell_type": "code",
   "execution_count": 4,
   "id": "a1a00abc",
   "metadata": {},
   "outputs": [
    {
     "name": "stdout",
     "output_type": "stream",
     "text": [
      "input numbers 10 20\n",
      "[10, 20]\n"
     ]
    }
   ],
   "source": [
    "#for loop exer.\n",
    "# starter to get a list of numbers\n",
    "A=input(\"input numbers \").split()\n",
    "for i in range (0,len(A)):\n",
    "    A[i] = int(A[i])\n",
    "print(A)"
   ]
  },
  {
   "cell_type": "code",
   "execution_count": 10,
   "id": "826b2c1b",
   "metadata": {},
   "outputs": [],
   "source": [
    "# from a list of numbers, calc average sum w/o using len() and sum()\n",
    "def average(arry):\n",
    "    counter = 0\n",
    "    total = 0\n",
    "    for i in arry:\n",
    "        total += i\n",
    "        counter += 1\n",
    "    return int(total/counter)"
   ]
  },
  {
   "cell_type": "code",
   "execution_count": 11,
   "id": "141c8fd4",
   "metadata": {},
   "outputs": [
    {
     "data": {
      "text/plain": [
       "15"
      ]
     },
     "execution_count": 11,
     "metadata": {},
     "output_type": "execute_result"
    }
   ],
   "source": [
    "average(A)"
   ]
  },
  {
   "cell_type": "code",
   "execution_count": 12,
   "id": "3ddce86b",
   "metadata": {},
   "outputs": [],
   "source": [
    "#highest score\n",
    "def highScore(A):\n",
    "    highest =0\n",
    "    for i in A:\n",
    "        if i > highest:\n",
    "            highest = i\n",
    "    return highest\n"
   ]
  },
  {
   "cell_type": "code",
   "execution_count": 13,
   "id": "ae3da905",
   "metadata": {},
   "outputs": [
    {
     "data": {
      "text/plain": [
       "20"
      ]
     },
     "execution_count": 13,
     "metadata": {},
     "output_type": "execute_result"
    }
   ],
   "source": [
    "highScore(A)"
   ]
  },
  {
   "cell_type": "code",
   "execution_count": 22,
   "id": "57bafd19",
   "metadata": {},
   "outputs": [
    {
     "name": "stdout",
     "output_type": "stream",
     "text": [
      "18\n"
     ]
    }
   ],
   "source": [
    "#add even number from list\n",
    "lis = [1,2,3,6,9,10]\n",
    "\n",
    "even =0\n",
    "for i in lis:\n",
    "    if i%2==0:\n",
    "        even+=i\n",
    "print(even)"
   ]
  },
  {
   "cell_type": "code",
   "execution_count": 25,
   "id": "96641d57",
   "metadata": {},
   "outputs": [
    {
     "name": "stdout",
     "output_type": "stream",
     "text": [
      "1\n",
      "2\n",
      "fizz\n",
      "4\n",
      "buzz\n",
      "fizz\n",
      "7\n",
      "8\n",
      "fizz\n",
      "buzz\n",
      "11\n",
      "fizz\n",
      "13\n",
      "14\n",
      "fizzbuzz\n",
      "16\n",
      "17\n",
      "fizz\n",
      "19\n",
      "buzz\n",
      "fizz\n",
      "22\n",
      "23\n",
      "fizz\n",
      "buzz\n",
      "26\n",
      "fizz\n",
      "28\n",
      "29\n",
      "fizzbuzz\n",
      "31\n",
      "32\n",
      "fizz\n",
      "34\n",
      "buzz\n",
      "fizz\n",
      "37\n",
      "38\n",
      "fizz\n",
      "buzz\n",
      "41\n",
      "fizz\n",
      "43\n",
      "44\n",
      "fizzbuzz\n",
      "46\n",
      "47\n",
      "fizz\n",
      "49\n",
      "buzz\n",
      "fizz\n",
      "52\n",
      "53\n",
      "fizz\n",
      "buzz\n",
      "56\n",
      "fizz\n",
      "58\n",
      "59\n",
      "fizzbuzz\n",
      "61\n",
      "62\n",
      "fizz\n",
      "64\n",
      "buzz\n",
      "fizz\n",
      "67\n",
      "68\n",
      "fizz\n",
      "buzz\n",
      "71\n",
      "fizz\n",
      "73\n",
      "74\n",
      "fizzbuzz\n",
      "76\n",
      "77\n",
      "fizz\n",
      "79\n",
      "buzz\n",
      "fizz\n",
      "82\n",
      "83\n",
      "fizz\n",
      "buzz\n",
      "86\n",
      "fizz\n",
      "88\n",
      "89\n",
      "fizzbuzz\n",
      "91\n",
      "92\n",
      "fizz\n",
      "94\n",
      "buzz\n",
      "fizz\n",
      "97\n",
      "98\n",
      "fizz\n",
      "buzz\n"
     ]
    }
   ],
   "source": [
    "#fizz buzz\n",
    "#print from 1 -100 in turn, \n",
    "# if divisible by 3 print fizz, \n",
    "# divisible by 5 print buzz\n",
    "# divisible by 3 aand 5 print fizzbuzz\n",
    "\n",
    "for i in range (1, 101):\n",
    "    if i%3==0 and i%5==0:\n",
    "        print('fizzbuzz')\n",
    "    elif i%3==0:\n",
    "        print('fizz')\n",
    "    elif i%5==0:\n",
    "        print('buzz')\n",
    "    else:\n",
    "        print(i)"
   ]
  },
  {
   "cell_type": "code",
   "execution_count": 32,
   "id": "6dab7a85",
   "metadata": {},
   "outputs": [],
   "source": [
    "# pw generator with letters, symbols and numbers of any length\n",
    "\n",
    "import random\n",
    "import string\n",
    "import secrets \n",
    "\n",
    "def get_random_string(length):\n",
    "    # choose from all lowercase letter\n",
    "   # letters = string.ascii_lowercase\n",
    "   # result_str = ''.join(random.choice(letters) for i in range(length))\n",
    "   # print(\"Random string of length\", length, \"is:\", result_str)\n",
    "    # choose punctuations\n",
    "   #symbols = string.punctuation\n",
    "   # result_sym = ''.join(random.choice(symbols) for i in range(length))\n",
    "   #print(\"Random string of length\", length, \"is:\", result_sym)\n",
    "    #choose digits\n",
    "   #numbers = string.digits\n",
    "   #result_digit = ''.join(random.choice(numbers) for i in range(length))\n",
    "   #print(\"Random string of length\", length, \"is:\", result_digit)\n",
    "   \n",
    "    res = ''.join(secrets.choice(string.punctuation+string.ascii_letters + string.digits) for x in range(length)) \n",
    "    \n",
    "    print(res)\n",
    "    \n",
    "    "
   ]
  },
  {
   "cell_type": "code",
   "execution_count": 35,
   "id": "db4196ae",
   "metadata": {},
   "outputs": [
    {
     "name": "stdout",
     "output_type": "stream",
     "text": [
      "$vm.=?gx/.\n"
     ]
    }
   ],
   "source": [
    "get_random_string(10)"
   ]
  },
  {
   "cell_type": "code",
   "execution_count": 14,
   "id": "38b910f3",
   "metadata": {},
   "outputs": [
    {
     "name": "stdout",
     "output_type": "stream",
     "text": [
      "guess a letter: a\n",
      "['_', 'a', '_', '_', '_', '_']\n",
      "guess a letter: c\n",
      "['_', 'a', '_', '_', '_', '_']\n",
      "guess a letter: b\n",
      "['b', 'a', 'b', '_', '_', '_']\n",
      "guess a letter: m\n",
      "['b', 'a', 'b', '_', '_', '_']\n",
      "guess a letter: n\n",
      "['b', 'a', 'b', '_', '_', 'n']\n",
      "guess a letter: o\n",
      "['b', 'a', 'b', 'o', 'o', 'n']\n",
      "you win\n"
     ]
    }
   ],
   "source": [
    "# random word\n",
    "#-----------------------\n",
    "#step 1-3\n",
    "words = [\"ardvark\",\"baboon\",\"camel\"]\n",
    "#choose random word from words\n",
    "import random\n",
    "word = random.choice(words)\n",
    "\n",
    "# check to see if 'guess' is one of the letters in rnd\n",
    "#for w in word:\n",
    "#    if w == guess:\n",
    "#        print(\"True\")\n",
    "#    else:\n",
    "#        print(\"False\")\n",
    "#        \n",
    "        \n",
    "\n",
    "# step 4-6\n",
    "# make empty list named display\n",
    "#for ea letter in word, add \"_\" to display\n",
    "display =[]\n",
    "for i in word:\n",
    "        display.append(\"_\")\n",
    "        \n",
    "#print(display)        \n",
    "\n",
    "\n",
    "\n",
    "# while loop. let continuous guesses and stops once all letters \n",
    "# have been guessed and display[] has no \"_\", print you win\n",
    "end_game = False\n",
    "\n",
    "while not end_game:\n",
    "    #input to guess a letter, assign this to a variable 'guess'. \n",
    "    #'guess' should be in lowercase\n",
    "    guess = input('guess a letter: ').lower()\n",
    "    \n",
    "    #loop thru ea pos in word, if letter at pos matches \"guess\"\n",
    "    #show that letter display at that pos\n",
    "\n",
    "    for pos in range(len(word)):\n",
    "        letter = word[pos]\n",
    "        if letter == guess:\n",
    "            display[pos]=letter\n",
    "\n",
    "    print(display)\n",
    "    if \"_\" not in display:\n",
    "        end_game = True\n",
    "        print('you win')\n"
   ]
  },
  {
   "cell_type": "code",
   "execution_count": 3,
   "id": "774c7d28",
   "metadata": {},
   "outputs": [
    {
     "name": "stdout",
     "output_type": "stream",
     "text": [
      "Key:  Tom  Value:  81\n",
      "Key:  Dick  Value:  91\n",
      "Key:  Harry  Value:  71\n",
      "Key:  Tom  Value:  exceed expectation\n",
      "Key:  Dick  Value:  Outstanding\n",
      "Key:  Harry  Value:  acceptable\n"
     ]
    }
   ],
   "source": [
    "# Day 9 dictionary \n",
    "# grading program\n",
    "# dictionary student_scores where key are names and values are exam scores\n",
    "\n",
    "#define an empty dictionary\n",
    "student_scores={}\n",
    "# add names and scores to the dictionary\n",
    "student_scores[\"Tom\"]=81\n",
    "student_scores[\"Dick\"]=91\n",
    "student_scores[\"Harry\"]=71\n",
    "\n",
    "#print dictionary\n",
    "for k,v in student_scores.items():\n",
    "    print(\"Key: \", k , \" Value: \", v)\n",
    "    \n",
    "#dictionary grades\n",
    "grades={}\n",
    "\n",
    "# add scoring criteria in grades for each student\n",
    "for key in student_scores:\n",
    "    score = student_scores[key]\n",
    "    if score> 90:\n",
    "        grades[key]= \"Outstanding\"\n",
    "    elif score> 80 and score <=90:\n",
    "        grades[key]= \"exceed expectation\"\n",
    "    elif score> 70 and score <=80:\n",
    "        grades[key]= \"acceptable\"\n",
    "    else:\n",
    "        grades[key]= \"Fail\"\n",
    "        \n",
    "# print grades\n",
    "for k,v in grades.items():\n",
    "    print(\"Key: \", k , \" Value: \", v)"
   ]
  },
  {
   "cell_type": "code",
   "execution_count": null,
   "id": "0e5a12de",
   "metadata": {},
   "outputs": [],
   "source": []
  },
  {
   "cell_type": "code",
   "execution_count": null,
   "id": "fcaab219",
   "metadata": {},
   "outputs": [],
   "source": []
  }
 ],
 "metadata": {
  "kernelspec": {
   "display_name": "Python 3 (ipykernel)",
   "language": "python",
   "name": "python3"
  },
  "language_info": {
   "codemirror_mode": {
    "name": "ipython",
    "version": 3
   },
   "file_extension": ".py",
   "mimetype": "text/x-python",
   "name": "python",
   "nbconvert_exporter": "python",
   "pygments_lexer": "ipython3",
   "version": "3.9.12"
  }
 },
 "nbformat": 4,
 "nbformat_minor": 5
}
